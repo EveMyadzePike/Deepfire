{
  "nbformat": 4,
  "nbformat_minor": 0,
  "metadata": {
    "colab": {
      "name": "fireDetect.ipynb",
      "provenance": [],
      "collapsed_sections": []
    },
    "kernelspec": {
      "name": "python3",
      "display_name": "Python 3"
    }
  },
  "cells": [
    {
      "cell_type": "markdown",
      "metadata": {
        "id": "WiQ40QXxoefx",
        "colab_type": "text"
      },
      "source": [
        "Import everything needed to grab files from google drive and use them."
      ]
    },
    {
      "cell_type": "code",
      "metadata": {
        "id": "OTph2mnqoJx4",
        "colab_type": "code",
        "colab": {}
      },
      "source": [
        "!pip install -U -q PyDrive\n",
        "from pydrive.auth import GoogleAuth\n",
        "from pydrive.drive import GoogleDrive\n",
        "from google.colab import auth\n",
        "from oauth2client.client import GoogleCredentials\n",
        "import os"
      ],
      "execution_count": 0,
      "outputs": []
    },
    {
      "cell_type": "markdown",
      "metadata": {
        "id": "P9yOxXIiou7J",
        "colab_type": "text"
      },
      "source": [
        "Setup up drive with authentication"
      ]
    },
    {
      "cell_type": "code",
      "metadata": {
        "id": "GznxqZIaoUyD",
        "colab_type": "code",
        "colab": {}
      },
      "source": [
        "auth.authenticate_user()\n",
        "gauth = GoogleAuth()\n",
        "gauth.credentials = GoogleCredentials.get_application_default()\n",
        "drive = GoogleDrive(gauth)"
      ],
      "execution_count": 0,
      "outputs": []
    },
    {
      "cell_type": "markdown",
      "metadata": {
        "id": "5caiAqZ5b3vZ",
        "colab_type": "text"
      },
      "source": [
        "Get training and testing files from Google drive."
      ]
    },
    {
      "cell_type": "code",
      "metadata": {
        "id": "TwcHr4tUcI8Z",
        "colab_type": "code",
        "colab": {}
      },
      "source": [
        "fid = drive.ListFile({'q':\"title='input.zip'\"}).GetList()[0]['id']\n",
        "f = drive.CreateFile({'id': fid})\n",
        "f.GetContentFile('input.zip')\n",
        "\n",
        "f.keys()\n",
        "\n",
        "!unzip input.zip\n",
        "\n",
        "PATH = '/content/input'\n",
        "os.listdir(PATH)\n",
        "train_dir = os.path.join(PATH, 'Train')\n",
        "test_dir = os.path.join(PATH, 'Test')\n",
        "\n",
        "train_fire_dir = os.path.join(train_dir, 'fire')\n",
        "train_no_fire_dir = os.path.join(train_dir, 'no_fire')\n",
        "test_fire_dir = os.path.join(test_dir, 'fire')\n",
        "test_no_fire_dir = os.path.join(test_dir, 'no_fire')\n",
        "\n",
        "print(len(os.listdir(train_fire_dir)))\n",
        "print(len(os.listdir(train_no_fire_dir)))\n",
        "print(len(os.listdir(test_fire_dir)))\n",
        "print(len(os.listdir(test_no_fire_dir)))\n"
      ],
      "execution_count": 0,
      "outputs": []
    },
    {
      "cell_type": "markdown",
      "metadata": {
        "id": "Q0o6cXECnPhN",
        "colab_type": "text"
      },
      "source": [
        "Use existing weights from previously developed models."
      ]
    },
    {
      "cell_type": "code",
      "metadata": {
        "id": "I9YW2C1TnV1-",
        "colab_type": "code",
        "colab": {}
      },
      "source": [
        "import tensorflow as tf\n",
        "tf.__version__\n",
        "from tensorflow.keras.applications import ResNet50\n",
        "from tensorflow.keras.models import Sequential\n",
        "from tensorflow.keras.layers import Dense, Flatten, GlobalAveragePooling2D\n",
        "\n",
        "num_classes = 2\n",
        "#resnet_weights_path = 'input/resnet50_weights_tf_dim_ordering_tf_kernels_notop.h5'\n",
        "resnet_weights_path = ('https://github.com/fchollet/deep-learning-models/'\n",
        "                       'releases/download/v0.2/'\n",
        "                       'resnet50_weights_tf_dim_ordering_tf_kernels_notop.h5')\n",
        "\n",
        "my_new_model = Sequential()\n",
        "my_new_model.add(ResNet50(include_top=False, pooling='avg', weights='imagenet'))\n",
        "my_new_model.add(Dense(num_classes, activation='softmax'))\n",
        "\n",
        "# Say not to train first layer (ResNet) model. It is already trained\n",
        "my_new_model.layers[0].trainable = False\n",
        "\n",
        "my_new_model.compile(optimizer='sgd', loss='categorical_crossentropy', metrics=['accuracy'])"
      ],
      "execution_count": 0,
      "outputs": []
    },
    {
      "cell_type": "markdown",
      "metadata": {
        "id": "v3mnlmNrnr9w",
        "colab_type": "text"
      },
      "source": [
        "Train the model based on the fire images recieved from the drive."
      ]
    },
    {
      "cell_type": "code",
      "metadata": {
        "id": "5nxYmgQreQNN",
        "colab_type": "code",
        "colab": {
          "base_uri": "https://localhost:8080/",
          "height": 105
        },
        "outputId": "a1f55a95-2687-4931-99a9-5e6ba64cf32d"
      },
      "source": [
        "from tensorflow.keras.applications.resnet50 import preprocess_input\n",
        "from tensorflow.keras.preprocessing.image import ImageDataGenerator\n",
        "\n",
        "image_size = 224\n",
        "batch_size = 20\n",
        "\n",
        "num_fire_train = len(os.listdir(train_fire_dir))\n",
        "num_no_fire_train = len(os.listdir(train_no_fire_dir))\n",
        "num_fire_test = len(os.listdir(test_fire_dir))\n",
        "num_no_fire_test = len(os.listdir(test_no_fire_dir))\n",
        "\n",
        "total_train = num_fire_train + num_no_fire_train\n",
        "total_test = num_fire_test + num_no_fire_test\n",
        "\n",
        "data_generator = ImageDataGenerator(preprocessing_function=preprocess_input)\n",
        "\n",
        "train_generator = data_generator.flow_from_directory(\n",
        "        directory=train_dir,\n",
        "        target_size=(image_size, image_size),\n",
        "        batch_size=batch_size,\n",
        "        class_mode='categorical')\n",
        "\n",
        "validation_generator = data_generator.flow_from_directory(\n",
        "        directory=test_dir,\n",
        "        target_size=(image_size, image_size),\n",
        "        class_mode='categorical')\n",
        "\n",
        "my_new_model.fit(\n",
        "        train_generator,\n",
        "        steps_per_epoch=12,\n",
        "        validation_data=validation_generator,\n",
        "        validation_steps=3)"
      ],
      "execution_count": 22,
      "outputs": [
        {
          "output_type": "stream",
          "text": [
            "Found 649 images belonging to 2 classes.\n",
            "Found 60 images belonging to 2 classes.\n",
            "12/12 [==============================] - ETA: 0s - loss: 0.0979 - accuracy: 0.9607WARNING:tensorflow:Your input ran out of data; interrupting training. Make sure that your dataset or generator can generate at least `steps_per_epoch * epochs` batches (in this case, 3 batches). You may need to use the repeat() function when building your dataset.\n",
            "12/12 [==============================] - 45s 4s/step - loss: 0.0979 - accuracy: 0.9607 - val_loss: 0.1939 - val_accuracy: 0.9167\n"
          ],
          "name": "stdout"
        }
      ]
    }
  ]
}